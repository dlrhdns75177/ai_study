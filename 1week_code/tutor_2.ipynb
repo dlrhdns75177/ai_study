{
 "cells": [
  {
   "cell_type": "code",
   "execution_count": 12,
   "metadata": {},
   "outputs": [
    {
     "data": {
      "text/plain": [
       "{'name': '흰둥이'}"
      ]
     },
     "execution_count": 12,
     "metadata": {},
     "output_type": "execute_result"
    }
   ],
   "source": [
    "#40\n",
    "a = {}\n",
    "a['name'] = '흰둥이'\n",
    "a"
   ]
  },
  {
   "cell_type": "code",
   "execution_count": 13,
   "metadata": {},
   "outputs": [
    {
     "data": {
      "text/plain": [
       "1000"
      ]
     },
     "execution_count": 13,
     "metadata": {},
     "output_type": "execute_result"
    }
   ],
   "source": [
    "#41\n",
    "a = {'name' : '흰둥이',\n",
    "     'age' : 1000}\n",
    "a['age']"
   ]
  },
  {
   "cell_type": "code",
   "execution_count": 10,
   "metadata": {},
   "outputs": [
    {
     "name": "stdout",
     "output_type": "stream",
     "text": [
      "apple\n",
      "banana\n",
      "cherry\n"
     ]
    }
   ],
   "source": [
    "#42\n",
    "a = {'apple' : 111, 'banana' : 222, 'cherry' : 'babo'}\n",
    "for i in a:\n",
    "    print(i)"
   ]
  },
  {
   "cell_type": "code",
   "execution_count": 11,
   "metadata": {},
   "outputs": [
    {
     "name": "stdout",
     "output_type": "stream",
     "text": [
      "111\n",
      "222\n",
      "babo\n"
     ]
    }
   ],
   "source": [
    "#43\n",
    "for i in a:\n",
    "    print(a[i])"
   ]
  },
  {
   "cell_type": "code",
   "execution_count": 35,
   "metadata": {},
   "outputs": [
    {
     "name": "stdout",
     "output_type": "stream",
     "text": [
      "babo\n"
     ]
    }
   ],
   "source": [
    "#44\n",
    "a = {'apple' : 111, 'banana' : 222, 'cherry' : 'babo'}\n",
    "\n",
    "for i in a.values():\n",
    "    if i == 'babo':\n",
    "        print('babo')"
   ]
  },
  {
   "cell_type": "code",
   "execution_count": 21,
   "metadata": {},
   "outputs": [
    {
     "data": {
      "text/plain": [
       "{'banana': 222, 'cherry': 'babo'}"
      ]
     },
     "execution_count": 21,
     "metadata": {},
     "output_type": "execute_result"
    }
   ],
   "source": [
    "#45\n",
    "del a['apple']\n",
    "a"
   ]
  },
  {
   "cell_type": "code",
   "execution_count": 23,
   "metadata": {},
   "outputs": [
    {
     "data": {
      "text/plain": [
       "{'apple': 111, 'banana': 'babooooooo', 'cherry': 'babo'}"
      ]
     },
     "execution_count": 23,
     "metadata": {},
     "output_type": "execute_result"
    }
   ],
   "source": [
    "#46\n",
    "a = {'apple' : 111, 'banana' : 222, 'cherry' : 'babo'}\n",
    "a['banana'] = 'babooooooo'\n",
    "a"
   ]
  },
  {
   "cell_type": "code",
   "execution_count": 34,
   "metadata": {},
   "outputs": [
    {
     "data": {
      "text/plain": [
       "{'a': 1, 'b': 2, 'c': 3, 'd': 4}"
      ]
     },
     "execution_count": 34,
     "metadata": {},
     "output_type": "execute_result"
    }
   ],
   "source": [
    "#47\n",
    "a = {'a' : 1, 'b' : 2}\n",
    "b = {'c' : 3, 'd' : 4}\n",
    "a.update(b)\n",
    "a"
   ]
  },
  {
   "cell_type": "code",
   "execution_count": 37,
   "metadata": {},
   "outputs": [
    {
     "name": "stdout",
     "output_type": "stream",
     "text": [
      "('apple', 111)\n",
      "('banana', 222)\n",
      "('cherry', 'babo')\n"
     ]
    }
   ],
   "source": [
    "#48\n",
    "a = {'apple': 111, 'banana': 222, 'cherry': 'babo'}\n",
    "for i in a.items():\n",
    "    print(i)"
   ]
  },
  {
   "cell_type": "code",
   "execution_count": 76,
   "metadata": {},
   "outputs": [
    {
     "name": "stdout",
     "output_type": "stream",
     "text": [
      "없어어어어어\n"
     ]
    }
   ],
   "source": [
    "#49\n",
    "a = {'apple': 111, 'banana': 222}\n",
    "print(a.get('cherry','없어어어어어'))"
   ]
  },
  {
   "cell_type": "code",
   "execution_count": 39,
   "metadata": {},
   "outputs": [
    {
     "data": {
      "text/plain": [
       "3"
      ]
     },
     "execution_count": 39,
     "metadata": {},
     "output_type": "execute_result"
    }
   ],
   "source": [
    "#50\n",
    "len(a)"
   ]
  },
  {
   "cell_type": "code",
   "execution_count": 40,
   "metadata": {},
   "outputs": [
    {
     "data": {
      "text/plain": [
       "dict"
      ]
     },
     "execution_count": 40,
     "metadata": {},
     "output_type": "execute_result"
    }
   ],
   "source": [
    "#51\n",
    "type(a)"
   ]
  },
  {
   "cell_type": "code",
   "execution_count": 74,
   "metadata": {},
   "outputs": [
    {
     "data": {
      "text/plain": [
       "666"
      ]
     },
     "execution_count": 74,
     "metadata": {},
     "output_type": "execute_result"
    }
   ],
   "source": [
    "#52\n",
    "a = {'apple': 111, 'banana': '222', 'cherry': 333}\n",
    "result = 0\n",
    "for i in a:\n",
    "    if type(a[i]) != int:\n",
    "        a[i] = int(a[i])\n",
    "\n",
    "    result = result + a[i]\n",
    "result"
   ]
  },
  {
   "cell_type": "code",
   "execution_count": 6,
   "metadata": {},
   "outputs": [
    {
     "data": {
      "text/plain": [
       "{'a': 3, 'b': 4, 'c': 2, ' ': 2, 'o': 3}"
      ]
     },
     "execution_count": 6,
     "metadata": {},
     "output_type": "execute_result"
    }
   ],
   "source": [
    "#53\n",
    "a = 'abcd abcd babo'\n",
    "suma = 0\n",
    "sumb = 0\n",
    "sumc = 0\n",
    "sum_ = 0\n",
    "sumo = 0\n",
    "for i in range(len(a)):\n",
    "    if a[i] == 'a':\n",
    "        suma = suma + 1\n",
    "    elif a[i] == 'b':\n",
    "        sumb = sumb + 1\n",
    "    elif a[i] == 'c':\n",
    "        sumc = sumc + 1\n",
    "    elif a[i] == ' ':\n",
    "        sum_ = sum_ + 1\n",
    "    else:\n",
    "        sumo = sumo + 1\n",
    "result = {'a' : suma, 'b' : sumb, 'c' : sumc, ' ' : sum_, 'o' : sumo}\n",
    "result"
   ]
  },
  {
   "cell_type": "code",
   "execution_count": 55,
   "metadata": {},
   "outputs": [
    {
     "name": "stdout",
     "output_type": "stream",
     "text": [
      "['apple', 'banana', 'cherry'] [111, 222, 'babo']\n"
     ]
    }
   ],
   "source": [
    "#54\n",
    "a = {'apple': 111, 'banana': 222, 'cherry': 'babo'}\n",
    "keys = list(a)\n",
    "values = list(a.values())\n",
    "print(keys, values)"
   ]
  },
  {
   "cell_type": "code",
   "execution_count": 59,
   "metadata": {},
   "outputs": [
    {
     "name": "stdout",
     "output_type": "stream",
     "text": [
      "{'짱구': {'이름': '짱구', '나이': 5, '특징': '진한 눈썹'}, '짱아': {'이름': '짱아', '나이': 2, '특징': '우주최강귀여움'}}\n"
     ]
    }
   ],
   "source": [
    "#55\n",
    "a = {\n",
    "    '짱구':{\n",
    "        '이름': '짱구',\n",
    "        '나이': 5,\n",
    "        '특징': '진한 눈썹'\n",
    "    },\n",
    "    '짱아':{\n",
    "        '이름': '짱아',\n",
    "        '나이': 2,\n",
    "        '특징': '우주최강귀여움'\n",
    "    }\n",
    "}\n",
    "print(a)"
   ]
  },
  {
   "cell_type": "code",
   "execution_count": 60,
   "metadata": {},
   "outputs": [
    {
     "data": {
      "text/plain": [
       "{'이름': '짱구', '나이': 5, '특징': '진한 눈썹'}"
      ]
     },
     "execution_count": 60,
     "metadata": {},
     "output_type": "execute_result"
    }
   ],
   "source": [
    "#57\n",
    "#딕셔너리는 순서가 없다(인덱스로 접근이 불가능)=메모리에 비순차적 저장(메모리 사용량 큼) 리스트는 순서가 존재한다=메모리에 순차적 저장\n",
    "\n",
    "#58\n",
    "#딕셔너리에서 키에 직접 접근하면 키가 존재하지 않을 경우 KeyError가 발생하는데 이때 get함수를 사용하면 키가 존재하지 않을때도 예외를 발생시키지 않고 기본값을 반환한다."
   ]
  },
  {
   "cell_type": "code",
   "execution_count": null,
   "metadata": {},
   "outputs": [],
   "source": []
  }
 ],
 "metadata": {
  "kernelspec": {
   "display_name": "Python 3",
   "language": "python",
   "name": "python3"
  },
  "language_info": {
   "codemirror_mode": {
    "name": "ipython",
    "version": 3
   },
   "file_extension": ".py",
   "mimetype": "text/x-python",
   "name": "python",
   "nbconvert_exporter": "python",
   "pygments_lexer": "ipython3",
   "version": "3.9.13"
  }
 },
 "nbformat": 4,
 "nbformat_minor": 2
}
