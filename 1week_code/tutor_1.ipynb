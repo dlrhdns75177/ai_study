{
 "cells": [
  {
   "cell_type": "code",
   "execution_count": 1,
   "metadata": {},
   "outputs": [
    {
     "name": "stdout",
     "output_type": "stream",
     "text": [
      "양수\n"
     ]
    }
   ],
   "source": [
    "str1, str2 = input().strip().split(' ')\n",
    "print(str1, str2, sep='')\n"
   ]
  },
  {
   "cell_type": "code",
   "execution_count": 2,
   "metadata": {},
   "outputs": [
    {
     "name": "stdout",
     "output_type": "stream",
     "text": [
      "3\n"
     ]
    }
   ],
   "source": [
    "#17\n",
    "import numpy as np\n",
    "a = list(map(int, input('3개의 숫자를 입력하세요 :').split(' ')))\n",
    "print(np.max(a))\n"
   ]
  },
  {
   "cell_type": "code",
   "execution_count": 3,
   "metadata": {},
   "outputs": [
    {
     "name": "stdout",
     "output_type": "stream",
     "text": [
      "일요일은 주말입니다.\n"
     ]
    }
   ],
   "source": [
    "#18\n",
    "a = input('요일을 입력하세요 : ')\n",
    "\n",
    "if a[0] =='토' or a[0]=='일':\n",
    "    print(f'{a[0]}요일은 주말입니다.')\n",
    "else:\n",
    "    print(f'{a[0]}요일은 평일 입니다.')\n"
   ]
  },
  {
   "cell_type": "code",
   "execution_count": 4,
   "metadata": {},
   "outputs": [
    {
     "name": "stdout",
     "output_type": "stream",
     "text": [
      "F\n"
     ]
    }
   ],
   "source": [
    "#19\n",
    "a = int(input('점수를 입력하세요 : '))\n",
    "if a >= 90:\n",
    "    print('A')\n",
    "elif a >= 80:\n",
    "    print('B')\n",
    "elif a >= 70:\n",
    "    print('C')\n",
    "elif a >=60:\n",
    "    print('D')\n",
    "else:\n",
    "    print('F')\n"
   ]
  },
  {
   "cell_type": "code",
   "execution_count": 5,
   "metadata": {},
   "outputs": [
    {
     "name": "stdout",
     "output_type": "stream",
     "text": [
      "바보\n"
     ]
    }
   ],
   "source": [
    "#20\n",
    "a = int(input('점수를 입력하세요 : '))\n",
    "if a > 100:\n",
    "    print('바보')\n",
    "else: \n",
    "    if a >= 90:\n",
    "        print('A')\n",
    "    elif a >= 80:\n",
    "        print('B')\n",
    "    elif a >= 70:\n",
    "        print('C')\n",
    "    elif a >=60:\n",
    "        print('D')\n",
    "    else:\n",
    "        print('F')\n"
   ]
  },
  {
   "cell_type": "code",
   "execution_count": 6,
   "metadata": {},
   "outputs": [
    {
     "name": "stdout",
     "output_type": "stream",
     "text": [
      "멍청이\n"
     ]
    }
   ],
   "source": [
    "#21\n",
    "a = int(input('점수를 입력하세요 : '))\n",
    "if a > 100:\n",
    "    print('바보')\n",
    "elif a < 0:\n",
    "    print('멍청이')\n",
    "else: \n",
    "    if a >= 90:\n",
    "        print('A')\n",
    "    elif a >= 80:\n",
    "        print('B')\n",
    "    elif a >= 70:\n",
    "        print('C')\n",
    "    elif a >=60:\n",
    "        print('D')\n",
    "    else:\n",
    "        print('F')\n"
   ]
  },
  {
   "cell_type": "code",
   "execution_count": 7,
   "metadata": {},
   "outputs": [
    {
     "name": "stdout",
     "output_type": "stream",
     "text": [
      "로그인 실패\n"
     ]
    }
   ],
   "source": [
    "#22\n",
    "id = 'admin'\n",
    "password = '1234'\n",
    "a = input('아이디와 비번을 입력하세요 : ').split(' ')\n",
    "if a[0] == id and a[1] == password:\n",
    "    print('로그인 성공')\n",
    "else:\n",
    "    print('로그인 실패')\n"
   ]
  },
  {
   "cell_type": "code",
   "execution_count": 8,
   "metadata": {},
   "outputs": [
    {
     "name": "stdout",
     "output_type": "stream",
     "text": [
      "['1', '3', '9']\n"
     ]
    }
   ],
   "source": [
    "#23\n",
    "a = input('3개의 숫자를 입력하세요 : ').split(' ')\n",
    "a.sort()\n",
    "print(a)\n"
   ]
  },
  {
   "cell_type": "code",
   "execution_count": 9,
   "metadata": {},
   "outputs": [
    {
     "name": "stdout",
     "output_type": "stream",
     "text": [
      "A\n"
     ]
    }
   ],
   "source": [
    "#24\n",
    "import numpy as np\n",
    "a = list(map(int, input('5개 과목의 점수들을 입력하세요 : ').split(' ')))\n",
    "mean_a = np.mean(a)\n",
    "if mean_a > 100:\n",
    "    print('바보')\n",
    "elif mean_a < 0:\n",
    "    print('멍청이')\n",
    "else: \n",
    "    if mean_a >= 90:\n",
    "        print('A')\n",
    "    elif mean_a >= 80:\n",
    "        print('B')\n",
    "    elif mean_a >= 70:\n",
    "        print('C')\n",
    "    elif mean_a >=60:\n",
    "        print('D')\n",
    "    else:\n",
    "        print('F')\n"
   ]
  },
  {
   "cell_type": "code",
   "execution_count": 10,
   "metadata": {},
   "outputs": [
    {
     "data": {
      "text/plain": [
       "{1, 4}"
      ]
     },
     "execution_count": 10,
     "metadata": {},
     "output_type": "execute_result"
    }
   ],
   "source": [
    "#25\n",
    "number = [1, 4, 4, 4, 4, 4, 4]\n",
    "set(number)\n"
   ]
  },
  {
   "cell_type": "code",
   "execution_count": 11,
   "metadata": {},
   "outputs": [
    {
     "data": {
      "text/plain": [
       "[1, 4, 4, 4, 4, 4, 4]"
      ]
     },
     "execution_count": 11,
     "metadata": {},
     "output_type": "execute_result"
    }
   ],
   "source": [
    "#26\n",
    "number = [1, 4, 4, 4, 4, 4, 4, 5]\n",
    "number.remove(5)\n",
    "number\n"
   ]
  },
  {
   "cell_type": "code",
   "execution_count": 13,
   "metadata": {},
   "outputs": [
    {
     "name": "stdout",
     "output_type": "stream",
     "text": [
      "3.25\n"
     ]
    }
   ],
   "source": [
    "#27\n",
    "import numpy as np\n",
    "number = [1,2,3,4,5]\n",
    "number.remove(2)\n",
    "\n",
    "mean_number = np.mean(number)\n",
    "print(mean_number)\n"
   ]
  },
  {
   "cell_type": "code",
   "execution_count": 12,
   "metadata": {},
   "outputs": [
    {
     "data": {
      "text/plain": [
       "[3, 4, 5]"
      ]
     },
     "execution_count": 12,
     "metadata": {},
     "output_type": "execute_result"
    }
   ],
   "source": [
    "#28\n",
    "number = [1,2,3,4,5]\n",
    "number[2:]\n"
   ]
  },
  {
   "cell_type": "code",
   "execution_count": 14,
   "metadata": {},
   "outputs": [
    {
     "name": "stdout",
     "output_type": "stream",
     "text": [
      "5\n"
     ]
    }
   ],
   "source": [
    "#29\n",
    "number = [1,4,4,4,4,4,4.5]\n",
    "count = 0\n",
    "for i in number:\n",
    "    if i == 4:\n",
    "        count = count + 1\n",
    "print(count)\n"
   ]
  },
  {
   "cell_type": "code",
   "execution_count": 16,
   "metadata": {},
   "outputs": [
    {
     "data": {
      "text/plain": [
       "1"
      ]
     },
     "execution_count": 16,
     "metadata": {},
     "output_type": "execute_result"
    }
   ],
   "source": [
    "#30\n",
    "#모든 4의 인덱스 위치???\n",
    "number = [1,4,4,4,4,4,4.5]\n",
    "number.index(4)\n"
   ]
  },
  {
   "cell_type": "code",
   "execution_count": 15,
   "metadata": {},
   "outputs": [
    {
     "name": "stdout",
     "output_type": "stream",
     "text": [
      "[1, 2, 3, 4, 5, 6]\n"
     ]
    }
   ],
   "source": [
    "#31\n",
    "list_1 = [1,2,3]\n",
    "list_2 = [4,5,6]\n",
    "a = list_1+list_2\n",
    "print(a)\n"
   ]
  },
  {
   "cell_type": "code",
   "execution_count": 23,
   "metadata": {},
   "outputs": [
    {
     "name": "stdout",
     "output_type": "stream",
     "text": [
      "21\n"
     ]
    }
   ],
   "source": [
    "#32\n",
    "number = [[1,2],[3,4],[5,6]]\n",
    "result = 0\n",
    "for i in range(3):\n",
    "    for j in range(2):\n",
    "        result = result + number[i][j]\n",
    "print(result)\n",
    "\n"
   ]
  },
  {
   "cell_type": "code",
   "execution_count": 18,
   "metadata": {},
   "outputs": [
    {
     "name": "stdout",
     "output_type": "stream",
     "text": [
      "22 11\n"
     ]
    }
   ],
   "source": [
    "#33\n",
    "a = 11\n",
    "b = 22\n",
    "change = 0\n",
    "change = a\n",
    "a = b\n",
    "b = change\n",
    "\n",
    "print(a,b)\n"
   ]
  },
  {
   "cell_type": "code",
   "execution_count": 19,
   "metadata": {},
   "outputs": [],
   "source": [
    "#34\n",
    "a = 3\n",
    "b = 6\n",
    "c = 9\n"
   ]
  },
  {
   "cell_type": "code",
   "execution_count": 20,
   "metadata": {},
   "outputs": [
    {
     "data": {
      "text/plain": [
       "[44, 33, 22, 11]"
      ]
     },
     "execution_count": 20,
     "metadata": {},
     "output_type": "execute_result"
    }
   ],
   "source": [
    "#35\n",
    "a = (44,33,22,11)\n",
    "b =list(a)\n",
    "type(b)\n",
    "b"
   ]
  },
  {
   "cell_type": "code",
   "execution_count": 21,
   "metadata": {},
   "outputs": [
    {
     "name": "stdout",
     "output_type": "stream",
     "text": [
      "[110, 22, 33, 44]\n"
     ]
    },
    {
     "ename": "TypeError",
     "evalue": "'tuple' object does not support item assignment",
     "output_type": "error",
     "traceback": [
      "\u001b[1;31m---------------------------------------------------------------------------\u001b[0m",
      "\u001b[1;31mTypeError\u001b[0m                                 Traceback (most recent call last)",
      "Cell \u001b[1;32mIn[21], line 7\u001b[0m\n\u001b[0;32m      4\u001b[0m \u001b[38;5;28mprint\u001b[39m(a)\n\u001b[0;32m      6\u001b[0m b \u001b[38;5;241m=\u001b[39m (\u001b[38;5;241m11\u001b[39m,\u001b[38;5;241m22\u001b[39m,\u001b[38;5;241m33\u001b[39m,\u001b[38;5;241m44\u001b[39m)\n\u001b[1;32m----> 7\u001b[0m \u001b[43mb\u001b[49m\u001b[43m[\u001b[49m\u001b[38;5;241;43m0\u001b[39;49m\u001b[43m]\u001b[49m \u001b[38;5;241m=\u001b[39m \u001b[38;5;241m110\u001b[39m\n\u001b[0;32m      8\u001b[0m \u001b[38;5;28mprint\u001b[39m(b)\n",
      "\u001b[1;31mTypeError\u001b[0m: 'tuple' object does not support item assignment"
     ]
    }
   ],
   "source": [
    "#36\n",
    "a = [11,22,33,44]\n",
    "a[0] = 110\n",
    "print(a)\n",
    "\n",
    "b = (11,22,33,44)\n",
    "b[0] = 110\n",
    "print(b)\n"
   ]
  },
  {
   "cell_type": "code",
   "execution_count": 22,
   "metadata": {},
   "outputs": [
    {
     "ename": "AttributeError",
     "evalue": "'tuple' object has no attribute 'append'",
     "output_type": "error",
     "traceback": [
      "\u001b[1;31m---------------------------------------------------------------------------\u001b[0m",
      "\u001b[1;31mAttributeError\u001b[0m                            Traceback (most recent call last)",
      "Cell \u001b[1;32mIn[22], line 5\u001b[0m\n\u001b[0;32m      3\u001b[0m b \u001b[38;5;241m=\u001b[39m \u001b[38;5;28mtuple\u001b[39m(a)\n\u001b[0;32m      4\u001b[0m \u001b[38;5;28mtype\u001b[39m(b)\n\u001b[1;32m----> 5\u001b[0m \u001b[43mb\u001b[49m\u001b[38;5;241;43m.\u001b[39;49m\u001b[43mappend\u001b[49m()\n\u001b[0;32m      6\u001b[0m \u001b[38;5;66;03m#튜플은 중복은 가능하지만 값 변경이 안되기 때문에 추가, 삭제 등이 안된다\u001b[39;00m\n",
      "\u001b[1;31mAttributeError\u001b[0m: 'tuple' object has no attribute 'append'"
     ]
    }
   ],
   "source": [
    "#37\n",
    "a = [44,33,22,11]\n",
    "b = tuple(a)\n",
    "type(b)\n",
    "b.append()\n",
    "#튜플은 중복은 가능하지만 값 변경이 안되기 때문에 추가, 삭제 등이 안된다\n"
   ]
  },
  {
   "cell_type": "code",
   "execution_count": null,
   "metadata": {},
   "outputs": [],
   "source": [
    "#38\n",
    "#차이점: 리스트는 값 변경 가능, 튜플은 값 변경이 안된다\n",
    "#튜플\n",
    "#39\n",
    "#튜플 : 값을 변경하지 않으니까 고려해야할게 별로 없어서?? 복잡하지 않으니까??"
   ]
  }
 ],
 "metadata": {
  "kernelspec": {
   "display_name": "Python 3",
   "language": "python",
   "name": "python3"
  },
  "language_info": {
   "codemirror_mode": {
    "name": "ipython",
    "version": 3
   },
   "file_extension": ".py",
   "mimetype": "text/x-python",
   "name": "python",
   "nbconvert_exporter": "python",
   "pygments_lexer": "ipython3",
   "version": "3.9.13"
  }
 },
 "nbformat": 4,
 "nbformat_minor": 2
}
