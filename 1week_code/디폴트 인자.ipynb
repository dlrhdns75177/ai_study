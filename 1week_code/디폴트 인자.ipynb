{
 "cells": [
  {
   "cell_type": "code",
   "execution_count": 14,
   "metadata": {},
   "outputs": [
    {
     "data": {
      "text/plain": [
       "[1, 2, 3, 4, 5]"
      ]
     },
     "execution_count": 14,
     "metadata": {},
     "output_type": "execute_result"
    }
   ],
   "source": [
    "def solution(num_list):\n",
    "    num_list.sort()\n",
    "    return num_list[:5]\n",
    "solution([1,2,3,4,5,7,6])\n"
   ]
  },
  {
   "cell_type": "code",
   "execution_count": 30,
   "metadata": {},
   "outputs": [
    {
     "data": {
      "text/plain": [
       "'as'"
      ]
     },
     "execution_count": 30,
     "metadata": {},
     "output_type": "execute_result"
    }
   ],
   "source": [
    "def solution(myString):\n",
    "    myString.upper()\n",
    "    return myString\n",
    "solution(\"as\")"
   ]
  },
  {
   "cell_type": "code",
   "execution_count": 66,
   "metadata": {},
   "outputs": [
    {
     "name": "stdout",
     "output_type": "stream",
     "text": [
      "10\n",
      "10\n",
      "30\n",
      "30\n"
     ]
    }
   ],
   "source": [
    "class MyClass:\n",
    "    class_var = 10  # 클래스 변수\n",
    "    \n",
    "    # 클래스 메서드로 클래스 변수 변경\n",
    "    @classmethod\n",
    "    def update_class_var(cls, value):\n",
    "        cls.class_var = value\n",
    "\n",
    "# 객체 생성\n",
    "obj1 = MyClass()\n",
    "obj2 = MyClass()\n",
    "\n",
    "print(obj1.class_var)  # 10\n",
    "print(obj2.class_var)  # 10\n",
    "\n",
    "# 클래스 메서드를 사용하여 클래스 변수 변경\n",
    "MyClass.update_class_var(20)\n",
    "obj1.update_class_var(30)\n",
    "\n",
    "print(obj1.class_var)  # 20 (모든 객체에 적용됨)\n",
    "print(obj2.class_var)  # 20 (모든 객체에 적용됨)"
   ]
  },
  {
   "cell_type": "code",
   "execution_count": 44,
   "metadata": {},
   "outputs": [
    {
     "ename": "SyntaxError",
     "evalue": "invalid syntax (4180149126.py, line 2)",
     "output_type": "error",
     "traceback": [
      "\u001b[1;36m  Cell \u001b[1;32mIn[44], line 2\u001b[1;36m\u001b[0m\n\u001b[1;33m    answer = del numlist[n]\u001b[0m\n\u001b[1;37m             ^\u001b[0m\n\u001b[1;31mSyntaxError\u001b[0m\u001b[1;31m:\u001b[0m invalid syntax\n"
     ]
    }
   ],
   "source": [
    "def solution(n, numlist):\n",
    "    \n",
    "    numlist.remove(n)\n",
    "    return "
   ]
  },
  {
   "cell_type": "code",
   "execution_count": 61,
   "metadata": {},
   "outputs": [],
   "source": [
    "from abc import ABC, abstractmethod\n",
    "class Animal(ABC): #부모클래스\n",
    "    def __init__(self,name): #부모의 생성자가 자식보다 우선시\n",
    "        self.name = name\n",
    "    def speak(self):\n",
    "        return \"소리를 낸다\"\n",
    "    def test(self):\n",
    "        return \"테스트중\"\n",
    "    \n",
    "    @abstractmethod #추상 메소드\n",
    "    def sound(self):\n",
    "        return '왈왈'\n",
    "\n",
    "class Dog(Animal): #자식(부모) = 상속\n",
    "    def __init__(self, name, age):\n",
    "        super().__init__(name) #자식에서 생성자를 재정의하고 싶을때에는 부모를 먼저 불러야함\n",
    "        self.age = age #자식 클래스에서 추가하고 싶은 속성 추가\n",
    "        \n",
    "    #부모 클래스에 있는 메서드도 적용하면서 재정의하고 싶으면 super().speak()로 작성해야함\n",
    "    #def speak(self):\n",
    "        #new_speak = super().speak()\n",
    "        #return f\"{new_speak}. {self.name}가 짓습니다.\"\n",
    "    def speak(self): #부모 클래스의 메서드 재정의(오버라이딩)\n",
    "        return f\"{self.name}가 짓습니다.\"\n",
    "    def sound(self): #무조건 구현해야함\n",
    "        return '멍멍'\n",
    "\n",
    "dog = Dog('푸들',12)\n",
    "print(dog.speak()) #출력: puggy가 짓습니다\n",
    "print(dog.sound()) #출력: 멍멍"
   ]
  },
  {
   "cell_type": "code",
   "execution_count": 44,
   "metadata": {},
   "outputs": [
    {
     "data": {
      "text/plain": [
       "[2, 2, 6, 50, 99, 49]"
      ]
     },
     "execution_count": 44,
     "metadata": {},
     "output_type": "execute_result"
    }
   ],
   "source": [
    "def solution(arr):\n",
    "    a = []\n",
    "    for i in arr:\n",
    "        if i>=50 and i%2==0:\n",
    "            a.append(int(i/2))\n",
    "        elif i<50 and i%2!=0:\n",
    "            a.append(i*2)\n",
    "        else:\n",
    "            a.append(i)\n",
    "    return a\n",
    "solution([1, 2, 3, 100, 99, 98])"
   ]
  },
  {
   "cell_type": "code",
   "execution_count": 35,
   "metadata": {},
   "outputs": [],
   "source": []
  },
  {
   "cell_type": "code",
   "execution_count": 36,
   "metadata": {},
   "outputs": [
    {
     "data": {
      "text/plain": [
       "['1', '2', '3']"
      ]
     },
     "execution_count": 36,
     "metadata": {},
     "output_type": "execute_result"
    }
   ],
   "source": []
  },
  {
   "cell_type": "code",
   "execution_count": 20,
   "metadata": {},
   "outputs": [],
   "source": [
    "a = sorted(a)"
   ]
  },
  {
   "cell_type": "code",
   "execution_count": 21,
   "metadata": {},
   "outputs": [
    {
     "name": "stdout",
     "output_type": "stream",
     "text": [
      "[1, 3, 5, 6, 7]\n"
     ]
    }
   ],
   "source": [
    "print(a)"
   ]
  },
  {
   "cell_type": "code",
   "execution_count": 12,
   "metadata": {},
   "outputs": [
    {
     "data": {
      "text/plain": [
       "[3, 6, 9, 300, 297, 294]"
      ]
     },
     "execution_count": 12,
     "metadata": {},
     "output_type": "execute_result"
    }
   ],
   "source": [
    "def solution(arr, k):\n",
    "    a = [i*k if k%2!=0 else i+k for i in arr]\n",
    "    return a\n",
    "solution([1,2,3,100,99,98],3)"
   ]
  },
  {
   "cell_type": "code",
   "execution_count": 40,
   "metadata": {},
   "outputs": [
    {
     "name": "stdout",
     "output_type": "stream",
     "text": [
      "0 1\n",
      "1 2\n",
      "2 3\n",
      "3 4\n"
     ]
    }
   ],
   "source": [
    "lst = [1,2,3,4]\n",
    "for i, a in enumerate(lst):\n",
    "    print(i, a)"
   ]
  },
  {
   "cell_type": "code",
   "execution_count": 55,
   "metadata": {},
   "outputs": [
    {
     "name": "stdout",
     "output_type": "stream",
     "text": [
      "1\n",
      "2\n",
      "3\n",
      "4\n",
      "5\n"
     ]
    }
   ],
   "source": [
    "a = range(1,6)\n",
    "for i in a:\n",
    "    print(i)"
   ]
  },
  {
   "cell_type": "code",
   "execution_count": 28,
   "metadata": {},
   "outputs": [
    {
     "name": "stdout",
     "output_type": "stream",
     "text": [
      "[2]\n",
      "[2, 3]\n",
      "[2, 3, 4]\n",
      "[1, 5]\n",
      "[2, 3, 4, 6]\n"
     ]
    }
   ],
   "source": [
    "def f(a, L = []): #디볼트 인자는 함수가 정의될 때 한번만 계산된다. 그리고 그 이후에는 값을 기억하고 있는다\n",
    "    L.append(a) #리스트와 같이 가변 객체를 디폴트 값으로 받으면 값을 이어받을 수 있다\n",
    "    return L \n",
    "print(f(2))\n",
    "print(f(3))\n",
    "print(f(4))\n",
    "print(f(5,[1])) #리스트 초기화\n",
    "print(f(6))\n",
    "\n",
    "\n"
   ]
  }
 ],
 "metadata": {
  "kernelspec": {
   "display_name": "Python 3",
   "language": "python",
   "name": "python3"
  },
  "language_info": {
   "codemirror_mode": {
    "name": "ipython",
    "version": 3
   },
   "file_extension": ".py",
   "mimetype": "text/x-python",
   "name": "python",
   "nbconvert_exporter": "python",
   "pygments_lexer": "ipython3",
   "version": "3.9.13"
  }
 },
 "nbformat": 4,
 "nbformat_minor": 2
}
