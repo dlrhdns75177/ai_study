{
 "cells": [
  {
   "cell_type": "code",
   "execution_count": 1,
   "metadata": {},
   "outputs": [],
   "source": [
    "#데코레이터: 함수나 메서드를 변경하지 않고, 추가적인 기능을 쉽게 추가할 수 있는 방법\n",
    "def decorator_function(original_function):\n",
    "    def wrapper_function(*args, **kwargs): #인자개수/타입을 모르더라도 모든 경우 처리 가능\n",
    "        print('추가 기능 실행 전')\n",
    "        result = original_function(*args, **kwargs) #원래 함수 호출\n",
    "        print('추가 기능 실행 후')\n",
    "        return result #원래 함수의 반환값을 반환하는 것 없으면 None\n",
    "    return wrapper_function\n",
    "#출력과 반환의 차이 : 출력은 값을 저장하지는 않고 단순히 보여주기만 , return은 반환값으로 값을 저장하고 있음"
   ]
  },
  {
   "cell_type": "code",
   "execution_count": null,
   "metadata": {},
   "outputs": [],
   "source": [
    "#클로저 : 함수 안에 내부 함수 구현(외부함수의 변수나 상태를 내부 함수에서 기억하고 참조,외부함수가 종류가 되어도 외부함수의 변수 기억)\n",
    "def 어찌고():\n",
    "    def 저찌고():\n",
    "        return \n",
    "    return 저찌고"
   ]
  },
  {
   "cell_type": "code",
   "execution_count": 2,
   "metadata": {},
   "outputs": [
    {
     "name": "stdout",
     "output_type": "stream",
     "text": [
      "원래함수\n",
      "None\n"
     ]
    }
   ],
   "source": [
    "def display():\n",
    "    print('원래함수')\n",
    "a = display()\n",
    "print(a) #display함수에 반환값이 없기 때문에"
   ]
  },
  {
   "cell_type": "code",
   "execution_count": 4,
   "metadata": {},
   "outputs": [
    {
     "name": "stdout",
     "output_type": "stream",
     "text": [
      "추가 기능 실행 전\n",
      "원래함수\n",
      "추가 기능 실행 후\n",
      "None\n"
     ]
    }
   ],
   "source": [
    "@decorator_function #decorator_function으로 사용하겠다는 것\n",
    "def display(): #decorator_function의 매개변수로 들어감\n",
    "    print('원래함수')\n",
    "a = display()\n",
    "print(a)"
   ]
  }
 ],
 "metadata": {
  "kernelspec": {
   "display_name": "Python 3",
   "language": "python",
   "name": "python3"
  },
  "language_info": {
   "codemirror_mode": {
    "name": "ipython",
    "version": 3
   },
   "file_extension": ".py",
   "mimetype": "text/x-python",
   "name": "python",
   "nbconvert_exporter": "python",
   "pygments_lexer": "ipython3",
   "version": "3.9.13"
  }
 },
 "nbformat": 4,
 "nbformat_minor": 2
}
