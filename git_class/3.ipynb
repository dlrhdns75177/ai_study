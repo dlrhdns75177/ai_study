{
 "cells": [
  {
   "cell_type": "code",
   "execution_count": null,
   "metadata": {},
   "outputs": [],
   "source": [
    "#remote로 적용\n",
    "#local(깃)과 remote(깃허브)는 commit을 가지고 교류(파일을 올리는 것X)\n",
    "#local과 remote 연결하는 방법\n",
    "#1. local에서 먼저 만들고 연결하기 git remote add origin 깃허브 주소(origin은 별명으로 관례)\n",
    "#git branch -M main : 기본적인 branch 이름을 main으로 설정할 것이다\n",
    "#git push -u origin main : main branch를 remote로 local의 commit을 \n",
    "#2. remote에서 먼저 만들고 연결하기(git clone) git clone 깃허브 주소(cd 내가 만들고 싶은 주소에 가서)\n",
    "#local 내용 수정하고 add하고 commit하고 git push하면 remote에 바로 올라감\n",
    "#branch : 어떤 연결라인을 통해서 전달 할 것인지\n",
    "#push : local의 commit -> remote (local이 remote보다 최신일 때)\n",
    "#pull : remote의 commit -> local (remote가 local보다 최신일 때)\n",
    "#readme.md 파일 작성하는 습관 만들기(remote에서 만들지 말고 local에서 만들고 push하기)\n"
   ]
  }
 ],
 "metadata": {
  "kernelspec": {
   "display_name": "Python 3",
   "language": "python",
   "name": "python3"
  },
  "language_info": {
   "name": "python",
   "version": "3.9.13"
  }
 },
 "nbformat": 4,
 "nbformat_minor": 2
}
