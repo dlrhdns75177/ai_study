{
 "cells": [
  {
   "cell_type": "code",
   "execution_count": null,
   "metadata": {},
   "outputs": [],
   "source": [
    "#local에서만 적용\n",
    "#commit : 현재 변경 사항을 특정 버전으로 남긴다. == 커밋(commit)한다.\n",
    "#git의 3가지 영역 : Working Directory, Staging Area, Repository\n",
    "#Working Directory : 내가 실제로 작업하고 있는 디렉토리(.git을 가지고 있는 폴더)\n",
    "#Staging Area :commit으로 남기고 싶은(특정 버전으로 관리하고 싶은) 파일이 모여 있는 곳\n",
    "#Repository : commit들이 하나로 저장되는 곳(.git 디렉토리가 repository)\n",
    "#git add(이제 버전관리 시작한다) : Working Directory -> Staging Area\n",
    "#git add 파일이름 : 파일 단위로 올리고 싶을때 \n",
    "#git add . :모든 파일을 올리고 싶을 때\n",
    "#git commit : Staging Area -> Repository\n",
    "#git commit -m'어찌고 저찌고'\n",
    "#git status: 현재 디렉토리가 깃에서 어떤 상태인지\n",
    "#Untracked : git add를 한번도 안함\n",
    "#tracked : git add를 한번은 무조건 함\n",
    "#Modified : git commit한번 했는데 그 이후로 수정된 내용들이 있음\n",
    "#Working tree clean : Working Directory 내용이랑 Repository 내용이 같다\n",
    "#git log : 총 commit 몇개를 했는지 보여줌"
   ]
  }
 ],
 "metadata": {
  "kernelspec": {
   "display_name": "Python 3",
   "language": "python",
   "name": "python3"
  },
  "language_info": {
   "name": "python",
   "version": "3.9.13"
  }
 },
 "nbformat": 4,
 "nbformat_minor": 2
}
